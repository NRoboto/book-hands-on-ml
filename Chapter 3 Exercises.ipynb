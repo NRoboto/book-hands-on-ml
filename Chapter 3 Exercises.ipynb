{
 "cells": [
  {
   "cell_type": "markdown",
   "metadata": {},
   "source": [
    "# Exercises\n",
    "1. Classifier for MNIST with over 97% accuracy"
   ]
  },
  {
   "cell_type": "code",
   "execution_count": 1,
   "metadata": {},
   "outputs": [],
   "source": [
    "import numpy as np\n",
    "import matplotlib as mpl\n",
    "import matplotlib.pyplot as plt\n",
    "import pandas as pd\n",
    "# from sklearn.datasets import fetch_openml\n",
    "import joblib"
   ]
  },
  {
   "cell_type": "code",
   "execution_count": 2,
   "metadata": {},
   "outputs": [],
   "source": [
    "# mnist = fetch_openml(\"mnist_784\", version=1, as_frame=False)\n",
    "# joblib.dump(mnist, \"Chapter 3/mnist.pkl\", compress=True)\n",
    "mnist = joblib.load(\"Chapter 3/mnist.pkl\")"
   ]
  },
  {
   "cell_type": "code",
   "execution_count": 3,
   "metadata": {},
   "outputs": [],
   "source": [
    "X, y = mnist[\"data\"], mnist[\"target\"]\n",
    "X_train, X_test, y_train, y_test = X[:60000], X[60000:], y[:60000], y[60000:]"
   ]
  },
  {
   "cell_type": "code",
   "execution_count": 4,
   "metadata": {},
   "outputs": [],
   "source": [
    "def plot_digit(digit):\n",
    "  plt.imshow(digit.reshape(28, 28), cmap=\"binary\")\n",
    "  plt.axis(\"off\")"
   ]
  },
  {
   "cell_type": "code",
   "execution_count": 5,
   "metadata": {},
   "outputs": [],
   "source": [
    "from sklearn.neighbors import KNeighborsClassifier\n",
    "from sklearn.model_selection import GridSearchCV\n",
    "\n",
    "# knn_clf = GridSearchCV(KNeighborsClassifier(), {\"n_neighbors\": [4, 5, 6], \"weights\": [\"uniform\", \"distance\"]}, cv=3, verbose=4)\n",
    "# knn_clf.fit(X_train, y_train)\n",
    "\n",
    "# joblib.dump(knn_clf, \"Chapter 3/knn_clf.pkl\", compress=True)\n",
    "knn_clf = joblib.load(\"Chapter 3/knn_clf.pkl\")"
   ]
  },
  {
   "cell_type": "code",
   "execution_count": 6,
   "metadata": {},
   "outputs": [
    {
     "data": {
      "text/plain": [
       "KNeighborsClassifier(n_neighbors=4, weights='distance')"
      ]
     },
     "execution_count": 6,
     "metadata": {},
     "output_type": "execute_result"
    }
   ],
   "source": [
    "knn_clf.best_estimator_"
   ]
  },
  {
   "cell_type": "code",
   "execution_count": 7,
   "metadata": {},
   "outputs": [
    {
     "data": {
      "text/plain": [
       "0.9703500000000002"
      ]
     },
     "execution_count": 7,
     "metadata": {},
     "output_type": "execute_result"
    }
   ],
   "source": [
    "knn_clf.best_score_"
   ]
  },
  {
   "cell_type": "markdown",
   "metadata": {},
   "source": [
    "2. Train the model on an expanded training set consisting of each image in the training set along with four shifted copies (shifted left, right, up, and down)"
   ]
  },
  {
   "cell_type": "code",
   "execution_count": 8,
   "metadata": {},
   "outputs": [
    {
     "data": {
      "image/png": "[encoded data removed]",
      "text/plain": [
       "<Figure size 432x288 with 5 Axes>"
      ]
     },
     "metadata": {
      "needs_background": "light"
     },
     "output_type": "display_data"
    }
   ],
   "source": [
    "from scipy.ndimage.interpolation import shift\n",
    "\n",
    "def shift_digit(digit, direction):\n",
    "  shift_dir_map = {\n",
    "    \"left\": [0, -1],\n",
    "    \"right\": [0, 1],\n",
    "    \"up\": [-1, 0],\n",
    "    \"down\": [1, 0],\n",
    "  }\n",
    "\n",
    "  shift_dir = shift_dir_map.get(direction) or [0, 0]\n",
    "\n",
    "  return shift(digit, shift_dir)\n",
    "\n",
    "def shift_digit_arr(digit, direction):\n",
    "  return shift_digit(digit.reshape(28, 28), direction).reshape(784)\n",
    "\n",
    "some_index = 5\n",
    "\n",
    "for idx, direction in enumerate([None, \"left\", \"right\", \"up\", \"down\"], start=1):\n",
    "  plt.subplot(1, 5, idx)\n",
    "  plot_digit(shift_digit(X_test[some_index].reshape(28, 28), direction))\n",
    "  plt.axis(\"on\")"
   ]
  },
  {
   "cell_type": "code",
   "execution_count": 62,
   "metadata": {},
   "outputs": [
    {
     "data": {
      "text/plain": [
       "['Chapter 3/Xy_train_shifts.pkl']"
      ]
     },
     "execution_count": 62,
     "metadata": {},
     "output_type": "execute_result"
    }
   ],
   "source": [
    "directions = [None, \"left\", \"right\", \"up\", \"down\"]\n",
    "X_small = X_train\n",
    "y_small = y_train\n",
    "# X_train_shifts, y_train_shifts = np.asarray([[shift_digit_arr(x, dir), y] for dir in directions for x, y in zip(X_small, y_small)], dtype=object).T\n",
    "# X_train_shifts = np.stack(X_train_shifts[:])"
   ]
  },
  {
   "cell_type": "code",
   "execution_count": 64,
   "metadata": {},
   "outputs": [
    {
     "data": {
      "text/plain": [
       "array([0.98488, 0.97452, 0.97979])"
      ]
     },
     "execution_count": 64,
     "metadata": {},
     "output_type": "execute_result"
    }
   ],
   "source": [
    "from sklearn.model_selection import cross_val_score\n",
    "# cross_val_score(knn_clf.best_estimator_, X_train_shifts, y_train_shifts, cv=3)"
   ]
  },
  {
   "cell_type": "markdown",
   "metadata": {},
   "source": [
    "The above takes a really long time (almost 30 mins on my MacBook Pro) and gives the result: array([0.98488, 0.97452, 0.97979])  \n",
    "The scores have improved by artificially expanding the data set!"
   ]
  },
  {
   "cell_type": "markdown",
   "metadata": {},
   "source": [
    "4. Spam classifier"
   ]
  },
  {
   "cell_type": "markdown",
   "metadata": {},
   "source": [
    "First, merge the spam and ham data into a single labelled dataset  \n",
    "Should be 2D nparray consisting of the text and a label in $\\{0, 1\\}$ where $0$ is ham and $1$ is spam"
   ]
  },
  {
   "cell_type": "code",
   "execution_count": 2,
   "metadata": {},
   "outputs": [],
   "source": [
    "import os\n",
    "\n",
    "spam_root = \"./Chapter 3/Spam Classifier\"\n",
    "# ham_dir = os.path.join(spam_root, \"easy_ham\")\n",
    "# spam_dir = os.path.join(spam_root, \"spam\")\n",
    "\n",
    "# ham_count = len(os.listdir(path=ham_dir))\n",
    "# spam_count = len(os.listdir(path=spam_dir))\n",
    "\n",
    "# data = np.empty((ham_count + spam_count, 2), dtype=np.dtype(object, int))\n",
    "\n",
    "# for idx, entry in enumerate(os.scandir(ham_dir)):\n",
    "#   with open(entry.path, 'r', encoding=\"latin1\") as file:\n",
    "#     data[idx][0] = file.read()\n",
    "#     data[idx][1] = 0\n",
    "\n",
    "# for idx, entry in enumerate(os.scandir(spam_dir)):\n",
    "#   with open(entry.path, 'r', encoding=\"latin1\") as file:\n",
    "#     data[idx + ham_count][0] = file.read()\n",
    "#     data[idx + ham_count][1] = 1\n",
    "\n",
    "data_loc = os.path.join(spam_root, \"spam.pkl\")\n",
    "# joblib.dump(data, data_loc, compress=True)\n",
    "X, y = joblib.load(data_loc).T"
   ]
  },
  {
   "cell_type": "markdown",
   "metadata": {},
   "source": [
    "Generate a training set and a test set"
   ]
  },
  {
   "cell_type": "code",
   "execution_count": 24,
   "metadata": {},
   "outputs": [],
   "source": [
    "# from sklearn.preprocessing import StandardScaler\n",
    "from sklearn.model_selection import StratifiedShuffleSplit\n",
    "\n",
    "sss = StratifiedShuffleSplit(n_splits=1, test_size=0.2, random_state=42)\n",
    "\n",
    "for train, test in sss.split(X, y):\n",
    "  X_train = X[train]\n",
    "  X_test = X[test]\n",
    "  y_train = y[train].astype(np.int32)\n",
    "  y_test = y[test].astype(np.int32)"
   ]
  },
  {
   "cell_type": "markdown",
   "metadata": {},
   "source": [
    "Setup some functions for the data pipeline:\n",
    "- Convert email to sparse vector\n",
    "  - Both boolean values and counts\n",
    "- Strip email headers\n",
    "- Convert email to lowercase\n",
    "- Remove punctuation\n",
    "- Replace URLs with \"URL\"\n",
    "- Replace numbers with \"NUMBER\"\n",
    "- Replace ips with \"IP\"\n",
    "- Use lexemes\n",
    "- Remove duplicates"
   ]
  },
  {
   "cell_type": "code",
   "execution_count": 4,
   "metadata": {},
   "outputs": [],
   "source": [
    "import re\n",
    "from sklearn.base import BaseEstimator, TransformerMixin\n",
    "\n",
    "class HeaderStripper(TransformerMixin, BaseEstimator):\n",
    "  def __init__(self, should_strip=True):\n",
    "    self.should_strip = should_strip\n",
    "\n",
    "  def __strip_headers(self, content: str):\n",
    "    content_lines = content.splitlines()\n",
    "    try:\n",
    "      headers_end_idx = content_lines.index(\"\") + 1\n",
    "    except ValueError:\n",
    "      headers_end_idx = 0\n",
    "    return \"\\n\".join(content_lines[headers_end_idx:])\n",
    "\n",
    "  def fit(self, X, y=None):\n",
    "    return self\n",
    "\n",
    "  def transform(self, X):\n",
    "    if self.should_strip:\n",
    "      return np.array([self.__strip_headers(email) for email in X])\n",
    "    else:\n",
    "      return X\n",
    "\n",
    "class CaseConverter(TransformerMixin, BaseEstimator):\n",
    "  def __init__(self, lower_case=True):\n",
    "    self.lower_case = lower_case\n",
    "  \n",
    "  def fit(self, X, y=None):\n",
    "    return self\n",
    "\n",
    "  def transform(self, X):\n",
    "    if self.lower_case:\n",
    "      return np.array([email.lower() for email in X])\n",
    "    else:\n",
    "      return X\n",
    "\n",
    "class PunctuationRemover(TransformerMixin, BaseEstimator):\n",
    "  punctuation_re = re.compile(r\"[^A-Za-z0-9\\s]\")\n",
    "\n",
    "  def __init__(self, remove_punctuation=True):\n",
    "    self.remove_punctuation = remove_punctuation\n",
    "\n",
    "  def fit(self, X, y=None):\n",
    "    return self\n",
    "\n",
    "  def transform(self, X):\n",
    "    if self.remove_punctuation:\n",
    "      return np.array([self.punctuation_re.sub(\"\", email) for email in X])\n",
    "    else:\n",
    "      return X\n",
    "\n",
    "class DataReplacer(TransformerMixin, BaseEstimator):\n",
    "  url_re = re.compile(r\"[^\\s<>(){}\\[\\]@=]+\\.(?:co\\.uk|com|net|org|co|biz|localhost)(?:[/?][^\\s<>(){}\\[\\]@]*)?|localhost\", flags=re.IGNORECASE)\n",
    "  number_re = re.compile(r\"\\d+\")\n",
    "  ipv4_re = re.compile(r\"\\d{1,3}\\.\\d{1,3}\\.\\d{1,3}\\.\\d{1,3}\")\n",
    "\n",
    "  def __init__(self, should_replace_urls=True, should_replace_numbers=True, should_replace_ips=True):\n",
    "    self.should_replace_urls = should_replace_urls\n",
    "    self.should_replace_numbers = should_replace_numbers\n",
    "    self.should_replace_ips = should_replace_ips\n",
    "\n",
    "  def fit(self, X, y=None):\n",
    "    return self\n",
    "\n",
    "  def transform(self, X):\n",
    "    transformed_X = X\n",
    "\n",
    "    if self.should_replace_ips:\n",
    "      transformed_X = np.array([self.__replace_ips(email) for email in transformed_X])\n",
    "    if self.should_replace_urls:\n",
    "      transformed_X = np.array([self.__replace_urls(email) for email in transformed_X])\n",
    "    if self.should_replace_numbers:\n",
    "      transformed_X = np.array([self.__replace_numbers(email) for email in transformed_X])\n",
    "    \n",
    "    return transformed_X\n",
    "\n",
    "  def __replace_urls(self, email: str):\n",
    "    return \"\\n\".join([self.url_re.sub(\" URL \", line) for line in email.splitlines()])\n",
    "\n",
    "  def __replace_numbers(self, email: str):\n",
    "    return self.number_re.sub(\" NUMBER \", email)\n",
    "\n",
    "  def __replace_ips(self, email: str):\n",
    "    return self.ipv4_re.sub(\" IP \", email)\n"
   ]
  },
  {
   "cell_type": "code",
   "execution_count": 5,
   "metadata": {},
   "outputs": [
    {
     "name": "stderr",
     "output_type": "stream",
     "text": [
      "[nltk_data] Downloading package punkt to /Users/mike/nltk_data...\n",
      "[nltk_data]   Package punkt is already up-to-date!\n"
     ]
    }
   ],
   "source": [
    "import nltk\n",
    "from nltk.stem import PorterStemmer\n",
    "from nltk.tokenize import word_tokenize\n",
    "\n",
    "nltk.download('punkt')\n",
    "\n",
    "class WordSplitter(TransformerMixin, BaseEstimator):\n",
    "  ps = PorterStemmer()\n",
    "  word_sep_re = re.compile(r\"[\\s]+\")\n",
    "\n",
    "  def __init__(self, get_stems=True):\n",
    "    self.get_stems = get_stems\n",
    "\n",
    "  def fit(self, X, y=None):\n",
    "    return self\n",
    "\n",
    "  def transform(self, X):\n",
    "    if not self.get_stems:\n",
    "      return np.array([self.word_sep_re.split(email) for email in X])\n",
    "\n",
    "    transformed_X = []\n",
    "    for email in X:\n",
    "      words = word_tokenize(email)\n",
    "      transformed_X.append([self.ps.stem(word) for word in words])\n",
    "\n",
    "    return np.array(transformed_X, dtype=object)"
   ]
  },
  {
   "cell_type": "code",
   "execution_count": 6,
   "metadata": {},
   "outputs": [],
   "source": [
    "from scipy.sparse import dok_matrix\n",
    "\n",
    "# Didn't end up using this, but it *almost* works\n",
    "# I'm pretty sure the sparse matrix should be able to handle adding the words as keys directly\n",
    "\n",
    "class WordEncoder(TransformerMixin, BaseEstimator):\n",
    "  def __init__(self, binary_encoding=False):\n",
    "    self.binary_encoding = binary_encoding\n",
    "\n",
    "  def fit(self, X, y=None):\n",
    "    return self\n",
    "\n",
    "  def transform(self, X):\n",
    "    word_dicts = [self.__get_word_dictionary(words) for words in X]\n",
    "    word_idx_map = self.__get_word_index_map(word_dicts)\n",
    "\n",
    "    mat = dok_matrix((len(X), len(word_idx_map)), dtype=int)\n",
    "    for idx, d in enumerate(word_dicts):\n",
    "      for word in d:\n",
    "        word_idx = word_idx_map[word]\n",
    "        mat.setdefault((idx, word_idx), 1 if self.binary_encoding else word_dicts[idx][word])\n",
    "\n",
    "    return mat\n",
    "\n",
    "  def __get_word_dictionary(self, words):\n",
    "    word_dict = {}\n",
    "    for word in words:\n",
    "      word_dict[word] = word_dict.setdefault(word, 0) + 1\n",
    "\n",
    "    return word_dict\n",
    "\n",
    "  def __get_word_index_map(self, word_dicts):\n",
    "    unique_words = set()\n",
    "    for d in word_dicts:\n",
    "      for word in d:\n",
    "        unique_words.add(word)\n",
    "\n",
    "    word_idx_map = {}\n",
    "    for idx, word in enumerate(unique_words):\n",
    "      word_idx_map[word] = idx\n",
    "\n",
    "    return word_idx_map"
   ]
  },
  {
   "cell_type": "code",
   "execution_count": 13,
   "metadata": {},
   "outputs": [],
   "source": [
    "from sklearn.pipeline import Pipeline\n",
    "from sklearn.linear_model import RidgeClassifier\n",
    "from sklearn.feature_extraction.text import CountVectorizer\n",
    "\n",
    "pipeline = Pipeline([\n",
    "  (\"header\", HeaderStripper(should_strip=True)),\n",
    "  (\"replacer\", DataReplacer()),\n",
    "  (\"punctuation\", PunctuationRemover()),\n",
    "  # (\"split\", WordSplitter()),\n",
    "  # (\"encode\", WordEncoder()),\n",
    "  (\"count\", CountVectorizer(strip_accents=\"unicode\", lowercase=True)),\n",
    "  (\"clf\", RidgeClassifier(random_state=42)),\n",
    "])"
   ]
  },
  {
   "cell_type": "markdown",
   "metadata": {},
   "source": [
    "Use GridSearchCV to try different parameters for the pipeline"
   ]
  },
  {
   "cell_type": "code",
   "execution_count": 39,
   "metadata": {},
   "outputs": [
    {
     "data": {
      "text/plain": [
       "{'clf__alpha': 3.0,\n",
       " 'count__binary': True,\n",
       " 'header__should_strip': False,\n",
       " 'punctuation__remove_punctuation': False,\n",
       " 'replacer__should_replace_ips': False,\n",
       " 'replacer__should_replace_numbers': False,\n",
       " 'replacer__should_replace_urls': False}"
      ]
     },
     "execution_count": 39,
     "metadata": {},
     "output_type": "execute_result"
    }
   ],
   "source": [
    "\n",
    "from sklearn.model_selection import GridSearchCV\n",
    "\n",
    "# clf = GridSearchCV(pipeline, {\n",
    "#   \"header__should_strip\": [True, False],\n",
    "#   \"replacer__should_replace_urls\": [True, False],\n",
    "#   \"replacer__should_replace_ips\": [True, False],\n",
    "#   \"replacer__should_replace_numbers\": [True, False],\n",
    "#   \"punctuation__remove_punctuation\": [True, False],\n",
    "#   \"count__binary\": [True, False],\n",
    "#   \"clf__alpha\": np.linspace(1.0, 3.0, 3)\n",
    "# }, cv=3, verbose=4, n_jobs=-1, scoring=\"recall\")\n",
    "\n",
    "# clf.fit(X_train, y_train)\n",
    "\n",
    "clf_loc = os.path.join(spam_root, \"grid_search_fitted.pkl\")\n",
    "# joblib.dump(clf, clf_loc)\n",
    "clf = joblib.load(clf_loc)\n",
    "\n",
    "clf.best_params_"
   ]
  },
  {
   "cell_type": "markdown",
   "metadata": {},
   "source": [
    "Test on the test set"
   ]
  },
  {
   "cell_type": "code",
   "execution_count": 42,
   "metadata": {},
   "outputs": [
    {
     "name": "stdout",
     "output_type": "stream",
     "text": [
      "precision =  0.99 , recall =  0.99 , F1 =  0.99\n"
     ]
    },
    {
     "data": {
      "text/plain": [
       "array([[499,   1],\n",
       "       [  1,  99]])"
      ]
     },
     "execution_count": 42,
     "metadata": {},
     "output_type": "execute_result"
    }
   ],
   "source": [
    "from sklearn.metrics import f1_score, recall_score, precision_score, confusion_matrix\n",
    "\n",
    "y_test_pred = clf.best_estimator_.predict(X_test)\n",
    "\n",
    "print(\"precision = \", precision_score(y_test, y_test_pred), \", recall = \", recall_score(y_test, y_test_pred), \", F1 = \", f1_score(y_test, y_test_pred))\n",
    "confusion_matrix(y_test, y_test_pred)"
   ]
  },
  {
   "cell_type": "markdown",
   "metadata": {},
   "source": [
    "Only one false positive and one false negative out of 600 emails!"
   ]
  }
 ],
 "metadata": {
  "interpreter": {
   "hash": "714ddfc57ea28cdf99a7574f93fe7f01f9e9dd2c6f4cd9c7e0bb67594452b002"
  },
  "kernelspec": {
   "display_name": "Python 3.8.2 64-bit ('my_env': venv)",
   "name": "python3"
  },
  "language_info": {
   "codemirror_mode": {
    "name": "ipython",
    "version": 3
   },
   "file_extension": ".py",
   "mimetype": "text/x-python",
   "name": "python",
   "nbconvert_exporter": "python",
   "pygments_lexer": "ipython3",
   "version": "3.8.2"
  },
  "orig_nbformat": 4
 },
 "nbformat": 4,
 "nbformat_minor": 2
}
